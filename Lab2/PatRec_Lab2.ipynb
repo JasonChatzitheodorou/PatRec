{
 "cells": [
  {
   "cell_type": "markdown",
   "metadata": {},
   "source": [
    "# Ανάλυση Προτύπων \n",
    "\n",
    "## Εργαστήριο 2"
   ]
  },
  {
   "cell_type": "code",
   "execution_count": null,
   "metadata": {},
   "outputs": [],
   "source": [
    "%matplotlib inline\n",
    "\n",
    "import matplotlib\n",
    "import matplotlib.pyplot as plt\n",
    "import librosa\n",
    "import numpy as np\n",
    "from scipy.fftpack import dct, idct\n",
    "\n",
    "import sklearn as sk\n",
    "from sklearn.decomposition import PCA\n",
    "from sklearn.naive_bayes import GaussianNB\n",
    "from sklearn.linear_model import LogisticRegression\n",
    "from sklearn.neighbors import KNeighborsClassifier\n",
    "from sklearn.ensemble import RandomForestClassifier\n",
    "from sklearn.svm import SVC\n",
    "from sklearn.pipeline import make_pipeline\n",
    "from sklearn.model_selection import train_test_split\n",
    "from pomegranate import GeneralMixtureModel, HiddenMarkovModel, MultivariateGaussianDistribution\n",
    "\n",
    "import parser\n",
    "import lib\n",
    "import importlib\n",
    "import joblib"
   ]
  },
  {
   "cell_type": "code",
   "execution_count": null,
   "metadata": {},
   "outputs": [],
   "source": [
    "importlib.reload(lib)\n",
    "importlib.reload(parser)"
   ]
  },
  {
   "cell_type": "markdown",
   "metadata": {},
   "source": [
    "### Βήμα 2"
   ]
  },
  {
   "cell_type": "code",
   "execution_count": null,
   "metadata": {},
   "outputs": [],
   "source": [
    "fs = 16000 # sampling rate "
   ]
  },
  {
   "cell_type": "code",
   "execution_count": null,
   "metadata": {},
   "outputs": [],
   "source": [
    "wavs, speakers, digits = lib.data_parser(\"digits/\")"
   ]
  },
  {
   "cell_type": "markdown",
   "metadata": {},
   "source": [
    "### Βήμα 3"
   ]
  },
  {
   "cell_type": "code",
   "execution_count": null,
   "metadata": {},
   "outputs": [],
   "source": [
    "hop_time = 0.010 # 10ms\n",
    "window_time = 0.025 # 25ms\n",
    "\n",
    "hop_samples = int(hop_time * fs)\n",
    "window_samples = int(window_time * fs)"
   ]
  },
  {
   "cell_type": "code",
   "execution_count": null,
   "metadata": {},
   "outputs": [],
   "source": [
    "mfcc_list = []\n",
    "for wav in wavs:\n",
    "    mfcc_list.append(lib.calc_mfcc(wav, hop_samples, window_samples))"
   ]
  },
  {
   "cell_type": "code",
   "execution_count": null,
   "metadata": {},
   "outputs": [],
   "source": [
    "# Default axis = -1 chooses columns\n",
    "\n",
    "deltas = [librosa.feature.delta(mfcc) for mfcc in mfcc_list]\n",
    "delta_deltas = [librosa.feature.delta(mfcc, order=2) for mfcc in mfcc_list]"
   ]
  },
  {
   "cell_type": "markdown",
   "metadata": {},
   "source": [
    "### Βήμα 4"
   ]
  },
  {
   "cell_type": "code",
   "execution_count": null,
   "metadata": {},
   "outputs": [],
   "source": [
    "n1 = 'six' # 03117169\n",
    "n2 = 'nine' # 03117089"
   ]
  },
  {
   "cell_type": "code",
   "execution_count": null,
   "metadata": {},
   "outputs": [],
   "source": [
    "n1_mfcc_list = [mfcc for mfcc, digit in zip(mfcc_list, digits) if digit == n1]\n",
    "n2_mfcc_list = [mfcc for mfcc, digit in zip(mfcc_list, digits) if digit == n2]"
   ]
  },
  {
   "cell_type": "code",
   "execution_count": null,
   "metadata": {},
   "outputs": [],
   "source": [
    "n1_first_feature = [mfcc[0] for mfcc in n1_mfcc_list]\n",
    "\n",
    "n1_size = len(n1_mfcc_list)\n",
    "rows = 4\n",
    "cols = int(n1_size / rows) + 1\n",
    "\n",
    "fig, axs = plt.subplots(nrows=rows, ncols=cols, figsize=(15, 15))\n",
    "axs = axs.flatten()\n",
    "\n",
    "for ax in axs:\n",
    "    ax.set_axis_off()\n",
    "\n",
    "for x, speaker, ax in zip(n1_first_feature, speakers, axs):\n",
    "    ax.hist(x)\n",
    "    ax.set_axis_on()\n",
    "    ax.set_title(f\"{n1} - {speaker}\")\n",
    "\n",
    "plt.show()"
   ]
  },
  {
   "cell_type": "code",
   "execution_count": null,
   "metadata": {},
   "outputs": [],
   "source": [
    "n1_second_feature = [mfcc[1] for mfcc in n1_mfcc_list]\n",
    "\n",
    "fig, axs = plt.subplots(nrows=rows, ncols=cols, figsize=(15, 15))\n",
    "axs = axs.flatten()\n",
    "\n",
    "for ax in axs:\n",
    "    ax.set_axis_off()\n",
    "\n",
    "for x, speaker, ax in zip(n1_second_feature, speakers, axs):\n",
    "    ax.hist(x)\n",
    "    ax.set_axis_on()\n",
    "    ax.set_title(f\"{n1} - {speaker}\")\n",
    "\n",
    "plt.show()"
   ]
  },
  {
   "cell_type": "code",
   "execution_count": null,
   "metadata": {},
   "outputs": [],
   "source": [
    "n2_first_feature = [mfcc[0] for mfcc in n2_mfcc_list]\n",
    "\n",
    "n2_size = len(n2_mfcc_list)\n",
    "rows = 4\n",
    "cols = int(n2_size / rows) + 1\n",
    "\n",
    "fig, axs = plt.subplots(nrows=rows, ncols=cols, figsize=(15, 15))\n",
    "axs = axs.flatten()\n",
    "\n",
    "for ax in axs:\n",
    "    ax.set_axis_off()\n",
    "\n",
    "for x, speaker, ax in zip(n2_first_feature, speakers, axs):\n",
    "    ax.hist(x)\n",
    "    ax.set_axis_on()\n",
    "    ax.set_title(f\"{n2} - {speaker}\")\n",
    "\n",
    "plt.show()"
   ]
  },
  {
   "cell_type": "code",
   "execution_count": null,
   "metadata": {},
   "outputs": [],
   "source": [
    "n2_second_feature = [mfcc[1] for mfcc in n2_mfcc_list]\n",
    "\n",
    "fig, axs = plt.subplots(nrows=rows, ncols=cols, figsize=(15, 15))\n",
    "axs = axs.flatten()\n",
    "\n",
    "for ax in axs:\n",
    "    ax.set_axis_off()\n",
    "\n",
    "for x, speaker, ax in zip(n2_second_feature, speakers, axs):\n",
    "    ax.hist(x)\n",
    "    ax.set_axis_on()\n",
    "    ax.set_title(f\"{n2} - {speaker}\")\n",
    "\n",
    "plt.show()"
   ]
  },
  {
   "cell_type": "code",
   "execution_count": null,
   "metadata": {},
   "outputs": [],
   "source": [
    "# Find six1, six2, nine1, nine2\n",
    "n1_indices = [lib.choose_index(n1, '1', digits, speakers), lib.choose_index(n1, '2', digits, speakers)]\n",
    "n2_indices = [lib.choose_index(n2, '1', digits, speakers), lib.choose_index(n2, '2', digits, speakers)]\n",
    "\n",
    "n1_mfscs = []\n",
    "for i in n1_indices:\n",
    "    mfcc = lib.calc_mfcc(wavs[i], hop_samples, window_samples)\n",
    "    n1_mfscs.append(idct(mfcc))\n",
    "n1_xarr = [np.corrcoef(mfsc) for mfsc in n1_mfscs]\n",
    "\n",
    "n2_mfscs = []\n",
    "for i in n2_indices:\n",
    "    mfcc = lib.calc_mfcc(wavs[i], hop_samples, window_samples)\n",
    "    n2_mfscs.append(idct(mfcc)) \n",
    "n2_xarr = [np.corrcoef(mfsc) for mfsc in n2_mfscs]"
   ]
  },
  {
   "cell_type": "code",
   "execution_count": null,
   "metadata": {},
   "outputs": [],
   "source": [
    "fig, axs = plt.subplots(nrows=2, ncols=2, figsize=(7, 7))\n",
    "for ax, xarr in zip(axs[0], n1_xarr):\n",
    "    ax.matshow(xarr)\n",
    "    ax.set_title(f\"{n1}\")\n",
    "\n",
    "for ax, xarr in zip(axs[1], n2_xarr):\n",
    "    ax.matshow(xarr)\n",
    "    ax.set_title(f\"{n2}\")"
   ]
  },
  {
   "cell_type": "markdown",
   "metadata": {},
   "source": [
    "### Βήμα 5"
   ]
  },
  {
   "cell_type": "code",
   "execution_count": null,
   "metadata": {},
   "outputs": [],
   "source": [
    "# Transform digits to list of integers\n",
    "digits_dict = {'one': 1, 'two': 2, 'three': 3, 'four': 4, 'five': 5, 'six': 6, 'seven': 7, 'eight': 8, 'nine': 9}\n",
    "digits_int = [digits_dict[digit] for digit in digits]\n",
    "\n",
    "# Transform speakers to list of integers from 1 to 15\n",
    "speakers_dict = {'1':1, '2':2, '3':3, '4':4, '5':5, '6':6, '7':7, '8':8, '9':9, '10':10, '11':11, '12':12, '13':13, '14':14, '15':15}\n",
    "speakers_int = [speakers_dict[speaker] for speaker in speakers]"
   ]
  },
  {
   "cell_type": "code",
   "execution_count": null,
   "metadata": {},
   "outputs": [],
   "source": [
    "data_mean = [np.array([mfcc.mean(axis=1), delta.mean(axis=1), delta2.mean(axis=1)]).ravel() for mfcc, delta, delta2 in zip(mfcc_list, deltas, delta_deltas)]\n",
    "data_mean = np.array(data_mean)\n",
    "print(data_mean.shape)\n",
    "\n",
    "data_std = [np.array([mfcc.std(axis=1), delta.std(axis=1), delta2.std(axis=1)]).ravel() for mfcc, delta, delta2 in zip(mfcc_list, deltas, delta_deltas)]\n",
    "data_std = np.array(data_std)\n",
    "print(data_std.shape)"
   ]
  },
  {
   "cell_type": "code",
   "execution_count": null,
   "metadata": {},
   "outputs": [],
   "source": [
    "# Assign a color to numbers from 1 to 9\n",
    "color_dict = {1: 'red', 2: 'green', 3: 'blue', 4: 'yellow', 5: 'orange', 6: 'purple', 7: 'black', 8: 'cyan', 9: 'magenta'}\n",
    "\n",
    "# Assign a marker to numbers from 1 to 15\n",
    "marker_dict = {1: 'o', 2: '^', 3: 's', 4: '*', 5: '+', 6: 'x', 7: 'D', 8: 'd', 9: 'h', 10: 'p', 11: 'v', 12: '<', 13: '>', 14: '8', 15: '1'}"
   ]
  },
  {
   "cell_type": "code",
   "execution_count": null,
   "metadata": {},
   "outputs": [],
   "source": [
    "fig, (ax0, ax1) = plt.subplots(nrows=1, ncols=2, figsize=(12, 5))\n",
    "\n",
    "for d, s, mean, std in zip(digits_int, speakers_int, data_mean, data_std):\n",
    "    ax0.scatter([mean[0]], [mean[1]], c=color_dict[d], marker=marker_dict[s])\n",
    "    ax0.set_title(f\"Mean of MFCCs\")\n",
    "\n",
    "    ax1.scatter([std[0]], [std[1]], c=color_dict[d], marker=marker_dict[s])\n",
    "    ax1.set_title(f\"Standard deviation of MFCCs\")\n",
    "\n",
    "plt.show()"
   ]
  },
  {
   "cell_type": "markdown",
   "metadata": {},
   "source": [
    "### Βήμα 6"
   ]
  },
  {
   "cell_type": "code",
   "execution_count": null,
   "metadata": {},
   "outputs": [],
   "source": [
    "# Apply PCA to the data\n",
    "pca_2 = PCA(n_components=2)\n",
    "data_mean_pca_2 = pca_2.fit_transform(data_mean)\n",
    "data_std_pca_2 = pca_2.fit_transform(data_std)\n",
    "\n",
    "fig, (ax0, ax1) = plt.subplots(nrows=1, ncols=2, figsize=(12, 5))\n",
    "\n",
    "for d, s, mean, std in zip(digits_int, speakers_int, data_mean_pca_2, data_std_pca_2):\n",
    "    ax0.scatter([mean[0]], [mean[1]], c=color_dict[d], marker=marker_dict[s])\n",
    "    ax0.set_title(f\"Mean of MFCCs (PCA 2)\")\n",
    "\n",
    "    ax1.scatter([std[0]], [std[1]], c=color_dict[d], marker=marker_dict[s])\n",
    "    ax1.set_title(f\"Standard deviation of MFCCs (PCA 2)\")\n",
    "\n",
    "plt.show()"
   ]
  },
  {
   "cell_type": "code",
   "execution_count": null,
   "metadata": {},
   "outputs": [],
   "source": [
    "# Apply PCA to the data\n",
    "pca_3 = PCA(n_components=3)\n",
    "data_mean_pca_3 = pca_3.fit_transform(data_mean)\n",
    "data_std_pca_3 = pca_3.fit_transform(data_std)\n",
    "\n",
    "fig = plt.figure(figsize=(12, 5))\n",
    "#fig, (ax0, ax1) = plt.subplots(nrows=1, ncols=2, figsize=(12, 5))\n",
    "ax0 = fig.add_subplot(1, 2, 1, projection='3d')\n",
    "ax1 = fig.add_subplot(1, 2, 2, projection='3d')\n",
    "\n",
    "for d, s, mean, std in zip(digits_int, speakers_int, data_mean_pca_3, data_std_pca_3):\n",
    "    ax0.scatter([mean[0]], [mean[1]], [mean[2]], c=color_dict[d], marker=marker_dict[s])\n",
    "    ax0.set_title(f\"Mean of MFCCs (PCA 3)\")\n",
    "\n",
    "    ax1.scatter([std[0]], [std[1]], [std[2]], c=color_dict[d], marker=marker_dict[s])\n",
    "    ax1.set_title(f\"Standard deviation of MFCCs (PCA 3)\")\n",
    "\n",
    "plt.show()"
   ]
  },
  {
   "cell_type": "code",
   "execution_count": null,
   "metadata": {},
   "outputs": [],
   "source": [
    "print(f\"The remaining variance of 2 PCA components is {sum(pca_2.explained_variance_ratio_) * 100:.4f}%\")\n",
    "print(f\"The remaining variance of 3 PCA components is {sum(pca_3.explained_variance_ratio_) * 100:.4f}%\")"
   ]
  },
  {
   "cell_type": "markdown",
   "metadata": {},
   "source": [
    "### Βήμα 7"
   ]
  },
  {
   "cell_type": "code",
   "execution_count": null,
   "metadata": {},
   "outputs": [],
   "source": [
    "# Every sample has both them means and the std of the MFCCs\n",
    "data = np.concatenate((data_mean, data_std),axis=1)\n",
    "\n",
    "# Split into train test 70 - 30\n",
    "X_train, X_test, y_train, y_test = sk.model_selection.train_test_split(data, digits_int, test_size=0.3, random_state=42)"
   ]
  },
  {
   "cell_type": "code",
   "execution_count": null,
   "metadata": {},
   "outputs": [],
   "source": [
    "NaiveBayes = GaussianNB()\n",
    "svc = SVC(kernel='linear')\n",
    "KNNeighbors = KNeighborsClassifier(n_neighbors=1)\n",
    "RandomForest = RandomForestClassifier()\n",
    "\n",
    "classifiers = [NaiveBayes, svc, KNNeighbors, RandomForest]\n",
    "preprocessor = sk.preprocessing.StandardScaler()\n",
    "\n",
    "for clf in classifiers:\n",
    "    pipeline = make_pipeline(preprocessor, clf)\n",
    "    pipeline.fit(X_train, y_train)\n",
    "    accuracy = sk.metrics.accuracy_score(y_test, pipeline.predict(X_test))\n",
    "    print(f\"Classifier {clf.__class__.__name__} has accuracy {accuracy * 100:.3f}%\")\n",
    "    #print(sk.metrics.classification_report(y_test, pipeline.predict(X_test), zero_division=0))"
   ]
  },
  {
   "cell_type": "markdown",
   "metadata": {},
   "source": [
    "### Βήμα 8"
   ]
  },
  {
   "cell_type": "code",
   "execution_count": null,
   "metadata": {},
   "outputs": [],
   "source": []
  },
  {
   "cell_type": "code",
   "execution_count": null,
   "metadata": {},
   "outputs": [],
   "source": [
    "f = 40\n",
    "T = 1 / f\n",
    "omega = 2 * np.pi * f\n",
    "\n",
    "x = np.arange(-T/2, T/2, T/10)\n",
    "\n",
    "sinx = np.sin(omega * x)\n",
    "cosx = np.cos(omega * x)"
   ]
  },
  {
   "cell_type": "markdown",
   "metadata": {},
   "source": [
    "## Εργαστηριακό μέρος"
   ]
  },
  {
   "cell_type": "markdown",
   "metadata": {},
   "source": [
    "### Βήμα 9"
   ]
  },
  {
   "cell_type": "code",
   "execution_count": null,
   "metadata": {},
   "outputs": [],
   "source": [
    "# Only run once to generate the data\n",
    "\n",
    "#import sys\n",
    "#X_train, X_test, y_train, y_test, spk_train, spk_test = parser.parser('recordings/')\n",
    "#X_train, X_dev, y_train, y_dev = train_test_split(X_train, y_train, test_size=0.2, stratify=y_train)\n",
    "#print(\"If using all data to calculate normalization statistics\")\n",
    "#scale_fn = parser.make_scale_fn(X_train + X_dev + X_test)\n",
    "#print(\"If using X_train + X_dev to calculate normalization statistics\")\n",
    "#scale_fn = parser.make_scale_fn(X_train + X_dev)\n",
    "#print(\"If using X_train to calculate normalization statistics\")\n",
    "#scale_fn = parser.make_scale_fn(X_train)\n",
    "#X_train = scale_fn(X_train)\n",
    "#X_dev = scale_fn(X_dev)\n",
    "#X_test = scale_fn(X_test)"
   ]
  },
  {
   "cell_type": "code",
   "execution_count": null,
   "metadata": {},
   "outputs": [],
   "source": [
    "# Make dictionary with previous variables\n",
    "#data_dict = {'X_train': X_train, 'X_dev': X_dev, 'X_test': X_test, 'y_train': y_train, 'y_dev': y_dev, 'y_test': y_test, 'spk_train': spk_train, 'spk_test': spk_test}\n",
    "\n",
    "# Save downloaded data to file\n",
    "#joblib.dump(data_dict, 'data_dict.pkl')"
   ]
  },
  {
   "cell_type": "code",
   "execution_count": null,
   "metadata": {},
   "outputs": [],
   "source": [
    "data_dict = joblib.load('data_dict.pkl')\n",
    "\n",
    "# Pass contents to variables\n",
    "X_train = data_dict['X_train']\n",
    "X_dev = data_dict['X_dev']\n",
    "X_test = data_dict['X_test']\n",
    "y_train = data_dict['y_train']\n",
    "y_dev = data_dict['y_dev']\n",
    "y_test = data_dict['y_test']\n",
    "spk_train = data_dict['spk_train']\n",
    "spk_test = data_dict['spk_test']"
   ]
  },
  {
   "cell_type": "markdown",
   "metadata": {},
   "source": [
    "### Βήμα 10"
   ]
  },
  {
   "cell_type": "code",
   "execution_count": null,
   "metadata": {},
   "outputs": [],
   "source": [
    "def create_hmm_model(X):\n",
    "    n_states = 2 # the number of HMM states\n",
    "    n_mixtures = 2 # the number of Gaussians\n",
    "    gmm = True # whether to use GMM or plain Gaussian\n",
    "    dists = [] # list of probability distributions for the HMM states\n",
    "    for i in range(n_states):\n",
    "        #X_ = np.float_(X.copy())\n",
    "        if gmm:\n",
    "            a = GeneralMixtureModel.from_samples(MultivariateGaussianDistribution, n_mixtures, X)\n",
    "        else:\n",
    "            a = MultivariateGaussianDistribution.from_samples(X)\n",
    "        dists.append(a)\n",
    "\n",
    "    trans_mat = [[0.5, 0.5], [0, 1]] # your transition matrix\n",
    "    starts = [1.0, 0] # your starting probability matrix\n",
    "    ends = None # your ending probability matrix\n",
    "    \n",
    "    # Define the GMM-HMM\n",
    "    model = HiddenMarkovModel.from_matrix(trans_mat, dists, starts, ends, state_names=['s{}'.format(i) for i in range(n_states)])\n",
    "\n",
    "    return model"
   ]
  },
  {
   "cell_type": "code",
   "execution_count": null,
   "metadata": {},
   "outputs": [],
   "source": [
    "digit_train_samples = [[x for x, y in zip(X_train, y_train) if y == i] for i in range(10)]\n",
    "digit_dev_samples = [[x for x, y in zip(X_dev, y_dev) if y == i] for i in range(10)]\n",
    "digit_test_samples = [[x for x, y in zip(X_test, y_test) if y == i] for i in range(10)]"
   ]
  },
  {
   "cell_type": "code",
   "execution_count": null,
   "metadata": {},
   "outputs": [],
   "source": [
    "digit_models = []\n",
    "for samples_of_digit in digit_train_samples:\n",
    "    digit_models.append(create_hmm_model(samples_of_digit))\n"
   ]
  },
  {
   "cell_type": "code",
   "execution_count": null,
   "metadata": {},
   "outputs": [],
   "source": []
  }
 ],
 "metadata": {
  "interpreter": {
   "hash": "31f2aee4e71d21fbe5cf8b01ff0e069b9275f58929596ceb00d14d90e3e16cd6"
  },
  "kernelspec": {
   "display_name": "Python 3.8.10 64-bit",
   "language": "python",
   "name": "python3"
  },
  "language_info": {
   "codemirror_mode": {
    "name": "ipython",
    "version": 3
   },
   "file_extension": ".py",
   "mimetype": "text/x-python",
   "name": "python",
   "nbconvert_exporter": "python",
   "pygments_lexer": "ipython3",
   "version": "3.8.10"
  },
  "orig_nbformat": 4
 },
 "nbformat": 4,
 "nbformat_minor": 2
}
